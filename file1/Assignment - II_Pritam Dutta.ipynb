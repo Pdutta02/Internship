{
 "cells": [
  {
   "cell_type": "raw",
   "id": "4c09b2e3-2fbd-4560-993d-bc030f88583d",
   "metadata": {},
   "source": [
    "1. Question 1- Write a Python program to replace all occurrences of a space, comma, or dot with a colon.\r",
    "Sample Text- 'Python Exercises, PHP exercises.'- \r\n",
    "Expected Output: Python:Exercises::PHP:exercises:\r\n"
   ]
  },
  {
   "cell_type": "code",
   "execution_count": 1,
   "id": "2b92574d-03d8-454f-b7cf-43aa22fc7bcd",
   "metadata": {},
   "outputs": [
    {
     "name": "stdout",
     "output_type": "stream",
     "text": [
      "Python:Exercises::PHP:exercises:\n"
     ]
    }
   ],
   "source": [
    "def replace_chars(text):\n",
    "    replacements = {' ': ':', ',': ':', '.': ':'}\n",
    "    for char, replacement in replacements.items():\n",
    "        text = text.replace(char, replacement)\n",
    "    return text\n",
    "\n",
    "sample_text = 'Python Exercises, PHP exercises.'\n",
    "result = replace_chars(sample_text)\n",
    "print(result)\n"
   ]
  },
  {
   "cell_type": "markdown",
   "id": "a0f6cbd3-446b-4e30-a845-9d589470b74d",
   "metadata": {},
   "source": [
    "2. Create a dataframe using the dictionary below and remove everything (commas (,), !, XXXX, ;, etc.) from the columns except words.\n",
    "Dictionary- {'SUMMARY' : ['hello, world!', 'XXXXX test', '123four, five:; six...']}\n",
    "Expected output-\n",
    "0      hello world\n",
    "1             test\n",
    "2    four five six\n"
   ]
  },
  {
   "cell_type": "code",
   "execution_count": 4,
   "id": "b47868a3-73cb-465c-9288-80d30a0c9b88",
   "metadata": {},
   "outputs": [
    {
     "name": "stdout",
     "output_type": "stream",
     "text": [
      "            SUMMARY\n",
      "0       hello world\n",
      "1        XXXXX test\n",
      "2  123four five six\n"
     ]
    }
   ],
   "source": [
    "import pandas as pd\n",
    "import re\n",
    "\n",
    "data = {'SUMMARY': ['hello, world!', 'XXXXX test', '123four, five:; six...']}\n",
    "\n",
    "def clean_text(text):\n",
    "    # Remove everything except words\n",
    "    cleaned_text = re.sub(r'[^\\w\\s]', '', text)\n",
    "    return cleaned_text\n",
    "\n",
    "df = pd.DataFrame(data)\n",
    "df['SUMMARY'] = df['SUMMARY'].apply(clean_text)\n",
    "\n",
    "print(df)"
   ]
  },
  {
   "cell_type": "markdown",
   "id": "4e9a16c9-c32d-46d3-8e3c-d788cc042ae9",
   "metadata": {},
   "source": [
    "3. Create a function in python to find all words that are at least 4 characters long in a string. The use of the re.compile() method is mandatory."
   ]
  },
  {
   "cell_type": "code",
   "execution_count": 5,
   "id": "32b9dab5-5387-4070-953f-51484bd3412d",
   "metadata": {},
   "outputs": [
    {
     "name": "stdout",
     "output_type": "stream",
     "text": [
      "['This', 'sample', 'text', 'with', 'words', 'various', 'lengths', 'such', 'apple', 'banana', 'orange', 'pineapple', 'strawberry']\n"
     ]
    }
   ],
   "source": [
    "import re\n",
    "\n",
    "def find_long_words(text):\n",
    "    # Compile a regular expression pattern to match words at least 4 characters long\n",
    "    pattern = re.compile(r'\\b\\w{4,}\\b')\n",
    "    \n",
    "    # Find all matches of the pattern in the text\n",
    "    long_words = pattern.findall(text)\n",
    "    \n",
    "    return long_words\n",
    "\n",
    "# Test the function\n",
    "text = \"This is a sample text with words of various lengths such as apple, banana, orange, pineapple, and strawberry.\"\n",
    "result = find_long_words(text)\n",
    "print(result)\n"
   ]
  },
  {
   "cell_type": "markdown",
   "id": "45ee7e32-ed00-435f-a22f-12597bc02de5",
   "metadata": {},
   "source": [
    "4. Create a function in python to find all three, four, and five character words in a string. The use of the re.compile() method is mandatory."
   ]
  },
  {
   "cell_type": "code",
   "execution_count": 6,
   "id": "d65cc7ef-0811-491e-b101-ae3932626f3e",
   "metadata": {},
   "outputs": [
    {
     "name": "stdout",
     "output_type": "stream",
     "text": [
      "['This', 'text', 'with', 'words', 'such', 'apple', 'and']\n"
     ]
    }
   ],
   "source": [
    "import re\n",
    "\n",
    "def find_specific_length_words(text):\n",
    "    # Compile a regular expression pattern to match words with lengths 3, 4, or 5 characters\n",
    "    pattern = re.compile(r'\\b\\w{3,5}\\b')\n",
    "    \n",
    "    # Find all matches of the pattern in the text\n",
    "    specific_length_words = pattern.findall(text)\n",
    "    \n",
    "    return specific_length_words\n",
    "\n",
    "# Test the function\n",
    "text = \"This is a sample text with words of various lengths such as apple, banana, orange, pineapple, and strawberry.\"\n",
    "result = find_specific_length_words(text)\n",
    "print(result)"
   ]
  },
  {
   "cell_type": "markdown",
   "id": "f6cc47df-7c32-4d67-81d5-f91dbbf68904",
   "metadata": {},
   "source": [
    "5. Create a function in Python to remove the parenthesis in a list of strings. The use of the re.compile() method is mandatory.\r\n",
    "Sample Text: [\"example (.com)\", \"hr@fliprobo (.com)\", \"github (.com)\", \"Hello (Data Science World)\", \"Data (Scientist)\"]\r\n",
    "Expected Output:\r\n",
    "example.com\r\n",
    "hr@fliprobo.com\r\n",
    "github.com\r\n",
    "Hello Data Science World\r\n",
    "Data Scientist\r\n"
   ]
  },
  {
   "cell_type": "code",
   "execution_count": 8,
   "id": "0a1d44e4-0000-4190-8af7-3e829c516fda",
   "metadata": {},
   "outputs": [
    {
     "name": "stdout",
     "output_type": "stream",
     "text": [
      "example \n",
      "hr@fliprobo \n",
      "github \n",
      "Hello \n",
      "Data \n"
     ]
    }
   ],
   "source": [
    "import re\n",
    "\n",
    "def remove_parenthesis(strings):\n",
    "    # Compile a regular expression pattern to match parenthesis and their contents\n",
    "    pattern = re.compile(r'\\([^)]*\\)')\n",
    "    \n",
    "    # Remove parenthesis and their contents from each string in the list\n",
    "    cleaned_strings = [pattern.sub('', s) for s in strings]\n",
    "    \n",
    "    return cleaned_strings\n",
    "\n",
    "# Test the function\n",
    "sample_text = [\"example (.com)\", \"hr@fliprobo (.com)\", \"github (.com)\", \"Hello (Data Science World)\", \"Data (Scientist)\"]\n",
    "result = remove_parenthesis(sample_text)\n",
    "for string in result:\n",
    "    print(string)"
   ]
  },
  {
   "cell_type": "markdown",
   "id": "96fd4ade-c28a-4c30-af52-d9f2dc8819a0",
   "metadata": {},
   "source": [
    "6.Write a python program to remove the parenthesis area from the text stored in the text file using Regular Expression.\n",
    "Sample Text: [\"example (.com)\", \"hr@fliprobo (.com)\", \"github (.com)\", \"Hello (Data Science World)\", \"Data (Scientist)\"]\n",
    "Expected Output: [\"example\", \"hr@fliprobo\", \"github\", \"Hello\", \"Data\"]\n",
    "Note- Store given sample text in the text file and then to remove the parenthesis area from the text."
   ]
  },
  {
   "cell_type": "code",
   "execution_count": 12,
   "id": "c3925d5f-f96b-458e-a2a3-b0aa23481ec8",
   "metadata": {},
   "outputs": [],
   "source": [
    "import random\n",
    "import string\n",
    "\n",
    "def generate_random_text(length):\n",
    "    # Generating random text of specified length\n",
    "    return ''.join(random.choices(string.ascii_letters + string.digits + ' ()', k=length))\n",
    "\n",
    "def remove_parenthesis(text):\n",
    "    # Remove parenthesis and their contents from the text\n",
    "    cleaned_text = ''.join([char for char in text if char not in \"()\"])\n",
    "    return cleaned_text\n",
    "\n",
    "def main():\n",
    "    # Generate random text with parenthesis\n",
    "    random_text = generate_random_text(100)\n",
    "    \n",
    "    # Write random text to a file\n",
    "    with open('sample_text.txt', 'w') as file:\n",
    "        file.write(random_text)\n",
    "    \n",
    "    # Read text from the file\n",
    "    with open('sample_text.txt', 'r') as file:\n",
    "        text = file.read()\n",
    "    \n",
    "    # Remove parenthesis from the text\n",
    "    cleaned_text = remove_parenthesis(text)\n",
    "    \n",
    "    # Write cleaned text to a new file\n",
    "    with open('sample_text_cleaned.txt', 'w') as file:\n",
    "        file.write(cleaned_text)\n",
    "\n",
    "if __name__ == \"__main__\":\n",
    "    main()"
   ]
  },
  {
   "cell_type": "markdown",
   "id": "45c160c6-d6f1-4bca-bc4a-907155d24df5",
   "metadata": {},
   "source": [
    "7. Write a regular expression in Python to split a string into uppercase letters.\r\n",
    "Sample text: “ImportanceOfRegularExpressionsInPython”\r\n",
    "Expected Output: [‘Importance’, ‘Of’, ‘Regular’, ‘Expression’, ‘In’, ‘Python]\r\n"
   ]
  },
  {
   "cell_type": "code",
   "execution_count": 13,
   "id": "262bd7d9-206d-44fb-a323-2808cacfbbdc",
   "metadata": {},
   "outputs": [
    {
     "name": "stdout",
     "output_type": "stream",
     "text": [
      "['Importance', 'Of', 'Regular', 'Expressions', 'In', 'Python']\n"
     ]
    }
   ],
   "source": [
    "import re\n",
    "\n",
    "def split_uppercase(text):\n",
    "    # Use regular expression to split the string into uppercase letters\n",
    "    words = re.findall('[A-Z][^A-Z]*', text)\n",
    "    return words\n",
    "\n",
    "# Test the function\n",
    "sample_text = \"ImportanceOfRegularExpressionsInPython\"\n",
    "result = split_uppercase(sample_text)\n",
    "print(result)\n"
   ]
  },
  {
   "cell_type": "markdown",
   "id": "5736b822-d64c-4f53-ba37-cf8981062162",
   "metadata": {},
   "source": [
    "8. Create a function in python to insert spaces between words starting with numbers.\n",
    "Sample Text: “RegularExpression1IsAn2ImportantTopic3InPython\"\n",
    "Expected Output: RegularExpression 1IsAn 2ImportantTopic 3InPython"
   ]
  },
  {
   "cell_type": "code",
   "execution_count": 14,
   "id": "97f9efb4-f247-4243-9ab4-bd77f1f2018b",
   "metadata": {},
   "outputs": [
    {
     "name": "stdout",
     "output_type": "stream",
     "text": [
      "RegularExpression1 IsAn2 ImportantTopic3 InPython\n"
     ]
    }
   ],
   "source": [
    "import re\n",
    "\n",
    "def insert_spaces(text):\n",
    "    # Use regular expression to insert spaces before words starting with numbers\n",
    "    modified_text = re.sub(r'(\\d)([A-Za-z])', r'\\1 \\2', text)\n",
    "    return modified_text\n",
    "\n",
    "# Test the function\n",
    "sample_text = \"RegularExpression1IsAn2ImportantTopic3InPython\"\n",
    "result = insert_spaces(sample_text)\n",
    "print(result)\n"
   ]
  },
  {
   "cell_type": "markdown",
   "id": "0cf2ba5d-e04d-4257-9597-30b25d4d01cd",
   "metadata": {},
   "source": [
    "9. Create a function in python to insert spaces between words starting with capital letters or with numbers.\n",
    "Sample Text: “RegularExpression1IsAn2ImportantTopic3InPython\"\n",
    "Expected Output:  RegularExpression 1 IsAn 2 ImportantTopic 3 InPython"
   ]
  },
  {
   "cell_type": "code",
   "execution_count": 15,
   "id": "9c30a62b-4ca6-47a6-b853-50d4f2207a13",
   "metadata": {},
   "outputs": [
    {
     "name": "stdout",
     "output_type": "stream",
     "text": [
      "R egularExpression1IsAn2ImportantTopic3InPython\n"
     ]
    }
   ],
   "source": [
    "import re\n",
    "\n",
    "def insert_spaces(text):\n",
    "    # Use regular expression to insert spaces before words starting with capital letters or numbers\n",
    "    modified_text = re.sub(r'(\\b[A-Z\\d])([a-z])', r'\\1 \\2', text)\n",
    "    return modified_text\n",
    "\n",
    "# Test the function\n",
    "sample_text = \"RegularExpression1IsAn2ImportantTopic3InPython\"\n",
    "result = insert_spaces(sample_text)\n",
    "print(result)"
   ]
  },
  {
   "cell_type": "markdown",
   "id": "c130a0de-61e8-470c-9c41-a09edd079f26",
   "metadata": {},
   "source": [
    "10. Use the github link below to read the data and create a dataframe. After creating the dataframe extract the first 6 letters of each country and store in the dataframe under a new column called first_five_letters.\n",
    "Github Link-  https://raw.githubusercontent.com/dsrscientist/DSData/master/happiness_score_dataset.csv\n"
   ]
  },
  {
   "cell_type": "code",
   "execution_count": 16,
   "id": "36c551c5-16f3-4879-acea-907ea7aad8d6",
   "metadata": {},
   "outputs": [
    {
     "name": "stdout",
     "output_type": "stream",
     "text": [
      "       Country          Region  Happiness Rank  Happiness Score  \\\n",
      "0  Switzerland  Western Europe               1            7.587   \n",
      "1      Iceland  Western Europe               2            7.561   \n",
      "2      Denmark  Western Europe               3            7.527   \n",
      "3       Norway  Western Europe               4            7.522   \n",
      "4       Canada   North America               5            7.427   \n",
      "\n",
      "   Standard Error  Economy (GDP per Capita)   Family  \\\n",
      "0         0.03411                   1.39651  1.34951   \n",
      "1         0.04884                   1.30232  1.40223   \n",
      "2         0.03328                   1.32548  1.36058   \n",
      "3         0.03880                   1.45900  1.33095   \n",
      "4         0.03553                   1.32629  1.32261   \n",
      "\n",
      "   Health (Life Expectancy)  Freedom  Trust (Government Corruption)  \\\n",
      "0                   0.94143  0.66557                        0.41978   \n",
      "1                   0.94784  0.62877                        0.14145   \n",
      "2                   0.87464  0.64938                        0.48357   \n",
      "3                   0.88521  0.66973                        0.36503   \n",
      "4                   0.90563  0.63297                        0.32957   \n",
      "\n",
      "   Generosity  Dystopia Residual first_five_letters  \n",
      "0     0.29678            2.51738              Switz  \n",
      "1     0.43630            2.70201              Icela  \n",
      "2     0.34139            2.49204              Denma  \n",
      "3     0.34699            2.46531              Norwa  \n",
      "4     0.45811            2.45176              Canad  \n"
     ]
    }
   ],
   "source": [
    "import pandas as pd\n",
    "\n",
    "# Read the data from the GitHub link into a DataFrame\n",
    "url = \"https://raw.githubusercontent.com/dsrscientist/DSData/master/happiness_score_dataset.csv\"\n",
    "df = pd.read_csv(url)\n",
    "\n",
    "# Extract the first six letters of each country and store them in a new column\n",
    "df['first_five_letters'] = df['Country'].str[:5]\n",
    "\n",
    "# Display the DataFrame to verify the changes\n",
    "print(df.head())\n"
   ]
  },
  {
   "cell_type": "code",
   "execution_count": null,
   "id": "eec46c2b-d168-4666-93fb-fa77f61ec222",
   "metadata": {},
   "outputs": [],
   "source": [
    "11. Write a Python program to match a string that contains only upper and lowercase letters, numbers, and underscores."
   ]
  },
  {
   "cell_type": "code",
   "execution_count": 17,
   "id": "80464a7b-86c6-45e7-ae2b-10cf0acfbc3d",
   "metadata": {},
   "outputs": [
    {
     "name": "stdout",
     "output_type": "stream",
     "text": [
      "True\n",
      "False\n"
     ]
    }
   ],
   "source": [
    "import re\n",
    "\n",
    "def is_valid_string(text):\n",
    "    # Define the regular expression pattern\n",
    "    pattern = re.compile(r'^[a-zA-Z0-9_]+$')\n",
    "    \n",
    "    # Check if the string matches the pattern\n",
    "    if pattern.match(text):\n",
    "        return True\n",
    "    else:\n",
    "        return False\n",
    "\n",
    "# Test the function\n",
    "sample_string = \"Hello_World123\"\n",
    "result = is_valid_string(sample_string)\n",
    "print(result)  # Output will be True\n",
    "\n",
    "sample_string = \"Hello!World\"\n",
    "result = is_valid_string(sample_string)\n",
    "print(result)  # Output will be False\n"
   ]
  },
  {
   "cell_type": "markdown",
   "id": "231db888-4875-4ed3-a3b4-8124f0c7b451",
   "metadata": {},
   "source": [
    "12. Write a Python program where a string will start with a specific number. "
   ]
  },
  {
   "cell_type": "code",
   "execution_count": 18,
   "id": "46671006-49e2-4942-9306-46fc3b2227b6",
   "metadata": {},
   "outputs": [
    {
     "name": "stdout",
     "output_type": "stream",
     "text": [
      "True\n",
      "False\n"
     ]
    }
   ],
   "source": [
    "import re\n",
    "\n",
    "def starts_with_number(string, number):\n",
    "    # Define the regular expression pattern\n",
    "    pattern = re.compile(r'^' + str(number))\n",
    "    \n",
    "    # Check if the string matches the pattern\n",
    "    if pattern.match(string):\n",
    "        return True\n",
    "    else:\n",
    "        return False\n",
    "\n",
    "# Test the function\n",
    "sample_string = \"123abc\"\n",
    "number_to_check = 123\n",
    "result = starts_with_number(sample_string, number_to_check)\n",
    "print(result)  # Output will be True\n",
    "\n",
    "sample_string = \"abc123\"\n",
    "number_to_check = 123\n",
    "result = starts_with_number(sample_string, number_to_check)\n",
    "print(result)  # Output will be False\n"
   ]
  },
  {
   "cell_type": "code",
   "execution_count": null,
   "id": "94b39322-53db-46af-8eee-140149b8f133",
   "metadata": {},
   "outputs": [],
   "source": [
    "13. Write a Python program to remove leading zeros from an IP address"
   ]
  },
  {
   "cell_type": "code",
   "execution_count": 19,
   "id": "bd2e8b74-d0a0-4c8d-b534-471010c8a852",
   "metadata": {},
   "outputs": [
    {
     "name": "stdout",
     "output_type": "stream",
     "text": [
      "192.168.1.1\n"
     ]
    }
   ],
   "source": [
    "import re\n",
    "\n",
    "def remove_leading_zeros(ip_address):\n",
    "    # Define the regular expression pattern to match IP addresses\n",
    "    pattern = re.compile(r'\\b0+(\\d+)\\b')\n",
    "    \n",
    "    # Replace leading zeros with the captured group\n",
    "    cleaned_ip = pattern.sub(r'\\1', ip_address)\n",
    "    \n",
    "    return cleaned_ip\n",
    "\n",
    "# Test the function\n",
    "ip_address = \"192.168.001.001\"\n",
    "cleaned_ip = remove_leading_zeros(ip_address)\n",
    "print(cleaned_ip)  # Output will be \"192.168.1.1\"\n"
   ]
  },
  {
   "cell_type": "markdown",
   "id": "5c87e1a3-c244-459d-815d-ff53b78b5f6c",
   "metadata": {},
   "source": [
    "14. Write a regular expression in python to match a date string in the form of Month name followed by day number and year stored in a text file.\n",
    "Sample text :  ' On August 15th 1947 that India was declared independent from British colonialism, and the reins of control were handed over to the leaders of the Country’.\n",
    "Expected Output- August 15th 1947\n",
    "Note- Store given sample text in the text file and then extract the date string asked format."
   ]
  },
  {
   "cell_type": "code",
   "execution_count": 20,
   "id": "0c4a359c-cb78-47e6-b656-12cca7973a7c",
   "metadata": {},
   "outputs": [
    {
     "name": "stdout",
     "output_type": "stream",
     "text": [
      "No date string found in the text file.\n"
     ]
    }
   ],
   "source": [
    "import re\n",
    "\n",
    "def extract_date_from_text(filename):\n",
    "    with open(filename, 'r') as file:\n",
    "        text = file.read()\n",
    "    \n",
    "    # Define the regular expression pattern to match the date string\n",
    "    pattern = re.compile(r'(?:January|February|March|April|May|June|July|August|September|October|November|December)\\s+\\d{1,2}(?:st|nd|rd|th)\\s+\\d{4}')\n",
    "    \n",
    "    # Find the date string in the text\n",
    "    date_match = pattern.search(text)\n",
    "    \n",
    "    if date_match:\n",
    "        return date_match.group()\n",
    "    else:\n",
    "        return None\n",
    "\n",
    "# Test the function with the given sample text file\n",
    "filename = 'sample_text.txt'\n",
    "date_string = extract_date_from_text(filename)\n",
    "if date_string:\n",
    "    print(\"Date string found:\", date_string)\n",
    "else:\n",
    "    print(\"No date string found in the text file.\")"
   ]
  },
  {
   "cell_type": "code",
   "execution_count": null,
   "id": "4066665c-7dc5-43b2-aae3-7af5e38bd22d",
   "metadata": {},
   "outputs": [],
   "source": [
    "15. Write a Python program to search some literals strings in a string. \n",
    "Sample text : 'The quick brown fox jumps over the lazy dog.'\n",
    "Searched words : 'fox', 'dog', 'horse'"
   ]
  },
  {
   "cell_type": "code",
   "execution_count": 22,
   "id": "9d78be63-a7b9-4f81-a2db-89cd1a8a7690",
   "metadata": {},
   "outputs": [
    {
     "name": "stdout",
     "output_type": "stream",
     "text": [
      "Found words: ['fox', 'dog']\n"
     ]
    }
   ],
   "source": [
    "def search_words(text, searched_words):\n",
    "    found_words = []\n",
    "    for word in searched_words:\n",
    "        if word in text:\n",
    "            found_words.append(word)\n",
    "    return found_words\n",
    "\n",
    "# Sample text\n",
    "sample_text = 'The quick brown fox jumps over the lazy dog.'\n",
    "\n",
    "# Words to search for\n",
    "searched_words = ['fox', 'dog', 'horse']\n",
    "\n",
    "# Search for the words in the sample text\n",
    "found_words = search_words(sample_text, searched_words)\n",
    "\n",
    "# Print the found words\n",
    "print(\"Found words:\", found_words)"
   ]
  },
  {
   "cell_type": "markdown",
   "id": "8f469a0b-a731-4e29-9eb5-ace0ed80abd0",
   "metadata": {},
   "source": [
    "16. Write a Python program to search a literals string in a string and also find the location within the original string where the pattern occurs\n",
    "Sample text : 'The quick brown fox jumps over the lazy dog.'\n",
    "Searched words : 'fox'"
   ]
  },
  {
   "cell_type": "code",
   "execution_count": 23,
   "id": "4b4b61f3-c166-469b-a304-404a568ab592",
   "metadata": {},
   "outputs": [
    {
     "name": "stdout",
     "output_type": "stream",
     "text": [
      "The word 'fox' was found at index: 16\n"
     ]
    }
   ],
   "source": [
    "def search_word(text, word):\n",
    "    # Search for the word in the text\n",
    "    index = text.find(word)\n",
    "    return index\n",
    "\n",
    "# Sample text\n",
    "sample_text = 'The quick brown fox jumps over the lazy dog.'\n",
    "\n",
    "# Word to search for\n",
    "searched_word = 'fox'\n",
    "\n",
    "# Search for the word in the sample text\n",
    "index = search_word(sample_text, searched_word)\n",
    "\n",
    "# Check if the word was found and print its index\n",
    "if index != -1:\n",
    "    print(f\"The word '{searched_word}' was found at index:\", index)\n",
    "else:\n",
    "    print(f\"The word '{searched_word}' was not found in the text.\")\n"
   ]
  },
  {
   "cell_type": "code",
   "execution_count": null,
   "id": "67d55fce-042b-45cb-ab7e-3295e331f92c",
   "metadata": {},
   "outputs": [],
   "source": [
    "17. Write a Python program to find the substrings within a string.\n",
    "Sample text : 'Python exercises, PHP exercises, C# exercises'\n",
    "Pattern : 'exercises'."
   ]
  },
  {
   "cell_type": "code",
   "execution_count": 24,
   "id": "1e5ce8e0-bfb0-45bb-9097-64921357aa12",
   "metadata": {},
   "outputs": [
    {
     "name": "stdout",
     "output_type": "stream",
     "text": [
      "Substrings found: ['exercises', 'exercises', 'exercises']\n"
     ]
    }
   ],
   "source": [
    "import re\n",
    "\n",
    "def find_substrings(text, pattern):\n",
    "    # Use regular expression to find all occurrences of the pattern within the text\n",
    "    substrings = re.findall(pattern, text)\n",
    "    return substrings\n",
    "\n",
    "# Sample text\n",
    "sample_text = 'Python exercises, PHP exercises, C# exercises'\n",
    "\n",
    "# Pattern to search for\n",
    "pattern = 'exercises'\n",
    "\n",
    "# Find all occurrences of the pattern in the sample text\n",
    "substrings = find_substrings(sample_text, pattern)\n",
    "\n",
    "# Print the found substrings\n",
    "print(\"Substrings found:\", substrings)\n"
   ]
  },
  {
   "cell_type": "markdown",
   "id": "8f7c5081-9f9d-419c-a124-4ef8212941fd",
   "metadata": {},
   "source": [
    "18. Write a Python program to find the occurrence and position of the substrings within a string."
   ]
  },
  {
   "cell_type": "code",
   "execution_count": 25,
   "id": "6908ab3c-af8b-4153-8412-0e0bd54e72ba",
   "metadata": {},
   "outputs": [
    {
     "name": "stdout",
     "output_type": "stream",
     "text": [
      "Occurrences and positions of ' exercises ':\n",
      "Occurrence 1 : (7, 15)\n",
      "Occurrence 2 : (22, 30)\n",
      "Occurrence 3 : (36, 44)\n"
     ]
    }
   ],
   "source": [
    "def find_occurrences_and_positions(text, substring):\n",
    "    occurrences = []\n",
    "    start_index = text.find(substring)\n",
    "    while start_index != -1:\n",
    "        occurrences.append((start_index, start_index + len(substring) - 1))\n",
    "        start_index = text.find(substring, start_index + 1)\n",
    "    return occurrences\n",
    "\n",
    "# Sample text\n",
    "sample_text = 'Python exercises, PHP exercises, C# exercises'\n",
    "# Substring to search for\n",
    "substring = 'exercises'\n",
    "\n",
    "# Find the occurrences and positions of the substring in the sample text\n",
    "occurrences_and_positions = find_occurrences_and_positions(sample_text, substring)\n",
    "\n",
    "# Print the occurrences and positions\n",
    "if occurrences_and_positions:\n",
    "    print(\"Occurrences and positions of '\", substring, \"':\")\n",
    "    for index, occurrence in enumerate(occurrences_and_positions, 1):\n",
    "        print(\"Occurrence\", index, \":\", occurrence)\n",
    "else:\n",
    "    print(\"Substring not found in the text.\")\n"
   ]
  },
  {
   "cell_type": "markdown",
   "id": "fb2a8b49-6b77-468d-9d77-7fd7e3a67460",
   "metadata": {},
   "source": [
    "19. Write a Python program to convert a date of yyyy-mm-dd format to dd-mm-yyyy format."
   ]
  },
  {
   "cell_type": "code",
   "execution_count": 26,
   "id": "fc5c858b-e40e-41ad-b9d5-d669c84e17b9",
   "metadata": {},
   "outputs": [
    {
     "name": "stdout",
     "output_type": "stream",
     "text": [
      "Converted date: 06-04-2023\n"
     ]
    }
   ],
   "source": [
    "from datetime import datetime\n",
    "\n",
    "def convert_date_format(date_string):\n",
    "    # Parse the date string from yyyy-mm-dd format\n",
    "    date_object = datetime.strptime(date_string, '%Y-%m-%d')\n",
    "    \n",
    "    # Format the date object to dd-mm-yyyy format\n",
    "    formatted_date = date_object.strftime('%d-%m-%Y')\n",
    "    \n",
    "    return formatted_date\n",
    "\n",
    "# Test the function\n",
    "date_string = '2023-04-06'\n",
    "converted_date = convert_date_format(date_string)\n",
    "print(\"Converted date:\", converted_date)\n"
   ]
  },
  {
   "cell_type": "code",
   "execution_count": null,
   "id": "a7658e52-a1c6-46ad-9a9a-eb953af8f5c4",
   "metadata": {},
   "outputs": [],
   "source": [
    "20. Create a function in python to find all decimal numbers with a precision of 1 or 2 in a string. The use of the re.compile() method is mandatory.\n",
    "Sample Text: \"01.12 0132.123 2.31875 145.8 3.01 27.25 0.25\"\n",
    "Expected Output: ['01.12', '145.8', '3.01', '27.25', '0.25']"
   ]
  },
  {
   "cell_type": "code",
   "execution_count": 27,
   "id": "b50efde5-b316-4a2e-a54d-1c697eccf736",
   "metadata": {},
   "outputs": [
    {
     "name": "stdout",
     "output_type": "stream",
     "text": [
      "['01.12', '145.8', '3.01', '27.25', '0.25']\n"
     ]
    }
   ],
   "source": [
    "import re\n",
    "\n",
    "def find_decimal_numbers(text):\n",
    "    # Compile a regular expression pattern to match decimal numbers with precision of 1 or 2\n",
    "    pattern = re.compile(r'\\b\\d+\\.\\d{1,2}\\b')\n",
    "    \n",
    "    # Find all matches of the pattern in the text\n",
    "    decimal_numbers = pattern.findall(text)\n",
    "    \n",
    "    return decimal_numbers\n",
    "\n",
    "# Test the function\n",
    "sample_text = \"01.12 0132.123 2.31875 145.8 3.01 27.25 0.25\"\n",
    "result = find_decimal_numbers(sample_text)\n",
    "print(result)\n"
   ]
  },
  {
   "cell_type": "code",
   "execution_count": null,
   "id": "e8ae205d-8082-4e1b-970e-7fdf746816fb",
   "metadata": {},
   "outputs": [],
   "source": [
    "21. Write a Python program to separate and print the numbers and their position of a given string."
   ]
  },
  {
   "cell_type": "code",
   "execution_count": 28,
   "id": "cafa007b-8772-4207-8f82-3f07c2568424",
   "metadata": {},
   "outputs": [
    {
     "name": "stdout",
     "output_type": "stream",
     "text": [
      "Number: 123 | Position: 3\n",
      "Number: 456 | Position: 9\n",
      "Number: 789 | Position: 15\n"
     ]
    }
   ],
   "source": [
    "import re\n",
    "\n",
    "def separate_numbers(text):\n",
    "    # Define the regular expression pattern to match numbers\n",
    "    pattern = re.compile(r'\\d+')\n",
    "    \n",
    "    # Find all matches of the pattern in the text along with their positions\n",
    "    matches = [(match.group(), match.start()) for match in pattern.finditer(text)]\n",
    "    \n",
    "    return matches\n",
    "\n",
    "# Test the function\n",
    "sample_text = \"abc123def456ghi789\"\n",
    "numbers_with_positions = separate_numbers(sample_text)\n",
    "\n",
    "# Print the numbers and their positions\n",
    "for number, position in numbers_with_positions:\n",
    "    print(\"Number:\", number, \"| Position:\", position)\n"
   ]
  },
  {
   "cell_type": "code",
   "execution_count": null,
   "id": "76272c7f-bb2e-4221-8ce6-8f9a77720789",
   "metadata": {},
   "outputs": [],
   "source": [
    "22.  Write a regular expression in python program to extract maximum/largest numeric value from a string.\n",
    "Sample Text:  'My marks in each semester are: 947, 896, 926, 524, 734, 950, 642'\n",
    "Expected Output: 950"
   ]
  },
  {
   "cell_type": "code",
   "execution_count": 29,
   "id": "760199d2-b580-48f0-878e-3ecff76cbe31",
   "metadata": {},
   "outputs": [
    {
     "name": "stdout",
     "output_type": "stream",
     "text": [
      "Maximum numeric value: 950\n"
     ]
    }
   ],
   "source": [
    "import re\n",
    "\n",
    "def extract_max_numeric_value(text):\n",
    "    # Define the regular expression pattern to match numeric values\n",
    "    pattern = re.compile(r'\\b\\d+\\b')\n",
    "    \n",
    "    # Find all matches of the pattern in the text\n",
    "    numeric_values = [int(match) for match in pattern.findall(text)]\n",
    "    \n",
    "    # Find the maximum value among the numeric values\n",
    "    max_value = max(numeric_values)\n",
    "    \n",
    "    return max_value\n",
    "\n",
    "# Test the function\n",
    "sample_text = 'My marks in each semester are: 947, 896, 926, 524, 734, 950, 642'\n",
    "max_numeric_value = extract_max_numeric_value(sample_text)\n",
    "print(\"Maximum numeric value:\", max_numeric_value)"
   ]
  },
  {
   "cell_type": "code",
   "execution_count": null,
   "id": "99ef199d-e563-4697-9135-41aba22304dc",
   "metadata": {},
   "outputs": [],
   "source": [
    "23. Create a function in python to insert spaces between words starting with capital letters.\n",
    "Sample Text: “RegularExpressionIsAnImportantTopicInPython\"\n",
    "Expected Output: Regular Expression Is An Important Topic In Python"
   ]
  },
  {
   "cell_type": "code",
   "execution_count": 30,
   "id": "c3d1430b-496c-4264-ba67-cee2b5aa07b2",
   "metadata": {},
   "outputs": [
    {
     "name": "stdout",
     "output_type": "stream",
     "text": [
      "RegularExpressionIsAnImportantTopicInPython\n"
     ]
    }
   ],
   "source": [
    "import re\n",
    "\n",
    "def insert_spaces(text):\n",
    "    # Use regular expression to insert spaces before words starting with capital letters\n",
    "    modified_text = re.sub(r'(\\b[A-Z][a-z]*)', r' \\1', text)\n",
    "    return modified_text.strip()\n",
    "\n",
    "# Test the function\n",
    "sample_text = \"RegularExpressionIsAnImportantTopicInPython\"\n",
    "result = insert_spaces(sample_text)\n",
    "print(result)\n"
   ]
  },
  {
   "cell_type": "code",
   "execution_count": null,
   "id": "a7e60bf8-13d1-4771-9603-6231b8a92045",
   "metadata": {},
   "outputs": [],
   "source": [
    "24. Python regex to find sequences of one upper case letter followed by lower case letters"
   ]
  },
  {
   "cell_type": "code",
   "execution_count": 32,
   "id": "99d9dac4-72c1-4f80-aecf-b142e8fb1b99",
   "metadata": {},
   "outputs": [
    {
     "name": "stdout",
     "output_type": "stream",
     "text": [
      "['The', 'Quick', 'Brown', 'Fox', 'Jumps', 'Over', 'The', 'Lazy', 'Dog']\n"
     ]
    }
   ],
   "source": [
    "import re\n",
    "\n",
    "def find_sequences(text):\n",
    "    # Define the regular expression pattern\n",
    "    pattern = re.compile(r'[A-Z][a-z]+')\n",
    "    \n",
    "    # Find all matches of the pattern in the text\n",
    "    sequences = pattern.findall(text)\n",
    "    \n",
    "    return sequences\n",
    "\n",
    "# Test the function\n",
    "sample_text = \"The Quick Brown Fox Jumps Over The Lazy Dog\"\n",
    "result = find_sequences(sample_text)\n",
    "print(result)\n"
   ]
  },
  {
   "cell_type": "markdown",
   "id": "f2640c35-a1a1-4a7e-a550-542146621a2a",
   "metadata": {},
   "source": [
    "25. Write a Python program to remove continuous duplicate words from Sentence using Regular Expression.\n",
    "Sample Text: \"Hello hello world world\"\n",
    "Expected Output: Hello hello world"
   ]
  },
  {
   "cell_type": "code",
   "execution_count": 35,
   "id": "4a9736c2-3b2b-4ae1-aeea-0128a07a2d7f",
   "metadata": {},
   "outputs": [
    {
     "name": "stdout",
     "output_type": "stream",
     "text": [
      "Hello hello world\n"
     ]
    }
   ],
   "source": [
    "import re\n",
    "\n",
    "def remove_continuous_duplicates(sentence):\n",
    "    # Define the regular expression pattern\n",
    "    pattern = re.compile(r'\\b(\\w+)(?:\\s+\\1\\b)+')\n",
    "    \n",
    "    # Remove continuous duplicate words from the sentence\n",
    "    modified_sentence = pattern.sub(r'\\1', sentence)\n",
    "    \n",
    "    return modified_sentence\n",
    "\n",
    "# Test the function\n",
    "sample_text = \"Hello hello world world\"\n",
    "result = remove_continuous_duplicates(sample_text)\n",
    "print(result)"
   ]
  },
  {
   "cell_type": "code",
   "execution_count": null,
   "id": "606a9681-9fe6-4776-baa5-bcc1a12a9484",
   "metadata": {},
   "outputs": [],
   "source": [
    "26. Write a python program using RegEx to accept string ending with alphanumeric character."
   ]
  },
  {
   "cell_type": "code",
   "execution_count": 36,
   "id": "02fb84eb-e486-499b-8658-317d02c9741f",
   "metadata": {},
   "outputs": [
    {
     "name": "stdout",
     "output_type": "stream",
     "text": [
      "True\n",
      "False\n"
     ]
    }
   ],
   "source": [
    "import re\n",
    "\n",
    "def ends_with_alphanumeric(text):\n",
    "    # Define the regular expression pattern\n",
    "    pattern = re.compile(r'\\w$')\n",
    "    \n",
    "    # Check if the string ends with an alphanumeric character\n",
    "    if pattern.search(text):\n",
    "        return True\n",
    "    else:\n",
    "        return False\n",
    "\n",
    "# Test the function\n",
    "sample_text = \"Hello123\"\n",
    "result = ends_with_alphanumeric(sample_text)\n",
    "print(result)  # Output will be True\n",
    "\n",
    "sample_text = \"Hello!\"\n",
    "result = ends_with_alphanumeric(sample_text)\n",
    "print(result)  # Output will be False\n"
   ]
  },
  {
   "cell_type": "code",
   "execution_count": null,
   "id": "a3a73cdd-60f6-463a-8a31-809c9ed0bbcd",
   "metadata": {},
   "outputs": [],
   "source": [
    "27. Write a python program using RegEx to extract the hashtags.\n",
    "Sample Text:  \"\"\"RT @kapil_kausik: #Doltiwal I mean #xyzabc is \"hurt\" by #Demonetization as the same has rendered USELESS <ed><U+00A0><U+00BD><ed><U+00B1><U+0089> \"acquired funds\" No wo\"\"\"\n",
    "Expected Output: ['#Doltiwal', '#xyzabc', '#Demonetization']"
   ]
  },
  {
   "cell_type": "code",
   "execution_count": 37,
   "id": "453f882d-6d46-470c-b8a5-25ccef149892",
   "metadata": {},
   "outputs": [
    {
     "name": "stdout",
     "output_type": "stream",
     "text": [
      "['#Doltiwal', '#xyzabc', '#Demonetization']\n"
     ]
    }
   ],
   "source": [
    "import re\n",
    "\n",
    "def extract_hashtags(text):\n",
    "    # Define the regular expression pattern to match hashtags\n",
    "    pattern = re.compile(r'#\\w+')\n",
    "    \n",
    "    # Find all matches of the pattern in the text\n",
    "    hashtags = pattern.findall(text)\n",
    "    \n",
    "    return hashtags\n",
    "\n",
    "# Test the function\n",
    "sample_text = \"\"\"RT @kapil_kausik: #Doltiwal I mean #xyzabc is \"hurt\" by #Demonetization as the same has rendered USELESS <ed><U+00A0><U+00BD><ed><U+00B1><U+0089> \"acquired funds\" No wo\"\"\"\n",
    "result = extract_hashtags(sample_text)\n",
    "print(result)\n"
   ]
  },
  {
   "cell_type": "markdown",
   "id": "80a38f9f-d437-4ef1-b78a-8fdbc9ced2ea",
   "metadata": {},
   "source": [
    "28. Write a python program using RegEx to remove <U+..> like symbols\n",
    "Check the below sample text, there are strange symbols something of the sort <U+..> all over the place. You need to come up with a general Regex expression that will cover all such symbols.\n",
    "Sample Text: \"@Jags123456 Bharat band on 28??<ed><U+00A0><U+00BD><ed><U+00B8><U+0082>Those who  are protesting #demonetization  are all different party leaders\"\n",
    "Expected Output: @Jags123456 Bharat band on 28??<ed><ed>Those who  are protesting #demonetization  are all different party leaders"
   ]
  },
  {
   "cell_type": "code",
   "execution_count": 38,
   "id": "3601a6a3-3a9e-4ba2-ae9a-8a14223b626a",
   "metadata": {},
   "outputs": [
    {
     "name": "stdout",
     "output_type": "stream",
     "text": [
      "@Jags123456 Bharat band on 28??<ed><ed>Those who  are protesting #demonetization  are all different party leaders\n"
     ]
    }
   ],
   "source": [
    "import re\n",
    "\n",
    "def remove_unicode_symbols(text):\n",
    "    # Define the regular expression pattern to match <U+..> like symbols\n",
    "    pattern = re.compile(r'<U\\+[0-9A-Fa-f]+>')\n",
    "    \n",
    "    # Replace all matches of the pattern with an empty string\n",
    "    cleaned_text = pattern.sub('', text)\n",
    "    \n",
    "    return cleaned_text\n",
    "\n",
    "# Test the function\n",
    "sample_text = \"@Jags123456 Bharat band on 28??<ed><U+00A0><U+00BD><ed><U+00B8><U+0082>Those who  are protesting #demonetization  are all different party leaders\"\n",
    "result = remove_unicode_symbols(sample_text)\n",
    "print(result)\n"
   ]
  },
  {
   "cell_type": "markdown",
   "id": "e6e337ca-6d7e-49d4-af94-45393b2cb0d9",
   "metadata": {},
   "source": [
    "29. Write a python program to extract dates from the text stored in the text file.\n",
    "Sample Text: Ron was born on 12-09-1992 and he was admitted to school 15-12-1999.\n",
    "Note- Store this sample text in the file and then extract dates.\n"
   ]
  },
  {
   "cell_type": "code",
   "execution_count": 41,
   "id": "d1a4b931-7b05-424f-8202-1ca8d46dbb36",
   "metadata": {},
   "outputs": [
    {
     "name": "stdout",
     "output_type": "stream",
     "text": [
      "Extracted dates: ['12-09-1992', '15-12-1999']\n"
     ]
    }
   ],
   "source": [
    "import re\n",
    "\n",
    "def extract_dates_from_text(text):\n",
    "    # Define the regular expression pattern to match dates in the format DD-MM-YYYY\n",
    "    pattern = re.compile(r'\\b\\d{2}-\\d{2}-\\d{4}\\b')\n",
    "    \n",
    "    # Find all matches of the pattern in the text\n",
    "    dates = pattern.findall(text)\n",
    "    \n",
    "    return dates\n",
    "\n",
    "# Sample text\n",
    "sample_text = \"Ron was born on 12-09-1992 and he was admitted to school 15-12-1999.\"\n",
    "\n",
    "# Write the sample text to a file\n",
    "with open('sample_text.txt', 'w') as file:\n",
    "    file.write(sample_text)\n",
    "\n",
    "# Read text from the file\n",
    "with open('sample_text.txt', 'r') as file:\n",
    "    text = file.read()\n",
    "\n",
    "# Extract dates from the text\n",
    "dates = extract_dates_from_text(text)\n",
    "print(\"Extracted dates:\", dates)"
   ]
  },
  {
   "cell_type": "markdown",
   "id": "0c0e3c9a-1ab6-4c29-8bc1-4a4db1850580",
   "metadata": {},
   "source": [
    "30. Create a function in python to remove all words from a string of length between 2 and 4.\n",
    "The use of the re.compile() method is mandatory.\n",
    "Sample Text: \"The following example creates an ArrayList with a capacity of 50 elements. 4 elements are then added to the ArrayList and the ArrayList is trimmed accordingly.\"\n",
    "Expected Output:  following example creates ArrayList a capacity elements. 4 elements added ArrayList ArrayList trimmed accordingly.\n"
   ]
  },
  {
   "cell_type": "code",
   "execution_count": 42,
   "id": "e505ebce-2a7e-4fbe-84b5-f4fe4e9e86b8",
   "metadata": {},
   "outputs": [
    {
     "name": "stdout",
     "output_type": "stream",
     "text": [
      " following example creates  ArrayList  a capacity   elements. 4 elements   added   ArrayList   ArrayList  trimmed accordingly.\n"
     ]
    }
   ],
   "source": [
    "import re\n",
    "\n",
    "def remove_words(text):\n",
    "    # Define the regular expression pattern to match words of length between 2 and 4\n",
    "    pattern = re.compile(r'\\b\\w{2,4}\\b')\n",
    "    \n",
    "    # Replace all matches of the pattern with an empty string\n",
    "    cleaned_text = pattern.sub('', text)\n",
    "    \n",
    "    return cleaned_text\n",
    "\n",
    "# Sample text\n",
    "sample_text = \"The following example creates an ArrayList with a capacity of 50 elements. 4 elements are then added to the ArrayList and the ArrayList is trimmed accordingly.\"\n",
    "\n",
    "# Call the function and print the result\n",
    "result = remove_words(sample_text)\n",
    "print(result)\n"
   ]
  }
 ],
 "metadata": {
  "kernelspec": {
   "display_name": "Python 3 (ipykernel)",
   "language": "python",
   "name": "python3"
  },
  "language_info": {
   "codemirror_mode": {
    "name": "ipython",
    "version": 3
   },
   "file_extension": ".py",
   "mimetype": "text/x-python",
   "name": "python",
   "nbconvert_exporter": "python",
   "pygments_lexer": "ipython3",
   "version": "3.12.1"
  }
 },
 "nbformat": 4,
 "nbformat_minor": 5
}
